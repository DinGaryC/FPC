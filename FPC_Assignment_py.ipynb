{
  "nbformat": 4,
  "nbformat_minor": 0,
  "metadata": {
    "colab": {
      "provenance": [],
      "authorship_tag": "ABX9TyM/X3VPGhw7wvHhkSIxEAVC",
      "include_colab_link": true
    },
    "kernelspec": {
      "name": "python3",
      "display_name": "Python 3"
    },
    "language_info": {
      "name": "python"
    }
  },
  "cells": [
    {
      "cell_type": "markdown",
      "metadata": {
        "id": "view-in-github",
        "colab_type": "text"
      },
      "source": [
        "<a href=\"https://colab.research.google.com/github/DinGaryC/FPC/blob/main/FPC_Assignment_py.ipynb\" target=\"_parent\"><img src=\"https://colab.research.google.com/assets/colab-badge.svg\" alt=\"Open In Colab\"/></a>"
      ]
    },
    {
      "cell_type": "code",
      "execution_count": null,
      "metadata": {
        "colab": {
          "base_uri": "https://localhost:8080/"
        },
        "id": "HpLGzbd1A-RZ",
        "outputId": "72cdf4ca-f88d-46e7-f891-f6c8c57edd8f"
      },
      "outputs": [
        {
          "output_type": "stream",
          "name": "stdout",
          "text": [
            "[13, 16, 27, 29, 40, 48]\n",
            "Please enter 1-6 indicated numbers, separated by commas: 27, 29, 40, 48\n",
            "Indicated numbers:  [27, 29, 40, 48]\n",
            "Number of indicated numbers:  4\n",
            "[27, 37]\n",
            "[27, 27, 29, 37, 40, 48]\n"
          ]
        }
      ],
      "source": [
        "\n",
        "#Normal generate 6 numbers\n",
        "\n",
        "import random\n",
        "\n",
        "return_list = random.sample(range(1,49), 6) #Generate 6 random numbers within 1-49, without duplicate numbers\n",
        "return_list. sort() #Show result in ascending order\n",
        "print(return_list)\n",
        "\n",
        "#Generate number set with (1-5) user indicate number\n",
        "\n",
        "#user number = number_indicated()\n",
        "\n",
        "#def number_indicated():\n",
        "number_csv = input(\"Please enter 1-6 indicated numbers, separated by commas: \")\n",
        "# To create a set of integers from this number_csv\n",
        "number_list = number_csv.split(\",\")  # ['1', '2', '3']\n",
        "integer_set = [int(number) for number in number_list]\n",
        "print(\"Indicated numbers: \",integer_set)\n",
        "print(\"Number of indicated numbers: \",len(integer_set))\n",
        "\n",
        "run_time = 6 - len(integer_set)\n",
        "\n",
        "import random\n",
        "\n",
        "return_list2 = random.sample(range(1,49), run_time) #Generate N random numbers within 1-49, without duplicate numbers\n",
        "return_list2. sort() #Show result in ascending order\n",
        "print(return_list2)\n",
        "\n",
        "C1 = (integer_set + return_list2)\n",
        "C1. sort()\n",
        "print(C1)"
      ]
    }
  ]
}